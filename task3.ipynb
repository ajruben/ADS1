{
 "cells": [
  {
   "cell_type": "markdown",
   "metadata": {},
   "source": [
    "## Task 3: Data extraction and entity resolution using Python"
   ]
  },
  {
   "cell_type": "markdown",
   "metadata": {},
   "source": [
    "#### Task 3(a)"
   ]
  },
  {
   "cell_type": "code",
   "execution_count": 5,
   "metadata": {},
   "outputs": [
    {
     "name": "stdout",
     "output_type": "stream",
     "text": [
      "[(1, 'Stanley', 'Hudson', 'Sales Representative', 45000, '2005-04-01', 1, 1, 'Dunder Mifflin Banking Company, Inc', 'Slough Avenue', 20, 'Scranton', '717 555 0177', '9-17'), (2, 'Kevin', 'Malone', 'Accountant', 42000, '2007-06-15', 1, 1, 'Dunder Mifflin Banking Company, Inc', 'Slough Avenue', 20, 'Scranton', '717 555 0177', '9-17'), (3, 'Greg', 'Lestrade', 'Detective Inspector', 50000, '2010-02-20', 2, 2, 'Baking and Banking', 'Bakerstreet', 221, 'London', '010 737 1373', '9-17'), (4, 'Molly', 'Hooper', 'Pathologist', 48000, '2011-09-25', 4, None, None, None, None, None, None, None), (5, 'Pearl', 'Krabs', 'Intern', 12000, '2022-07-01', 3, 3, 'Krusty Krab Bank', 'Anchor Way', 1, 'Bikini Bottom', '555 0199', '9-17'), (6, 'Sheldon', 'Plankton', 'Competitor Spy', 30000, '2023-01-10', 3, 3, 'Krusty Krab Bank', 'Anchor Way', 1, 'Bikini Bottom', '555 0199', '9-17')]\n",
      "[(1, 43500.0), (2, 50000.0), (3, 21000.0), (4, 48000.0)]\n",
      "[(1, 43500.0), (2, 50000.0), (4, 48000.0)]\n"
     ]
    }
   ],
   "source": [
    "import sqlite3\n",
    "import pandas\n",
    "\n",
    "path = r\"bank.db\" #path to db\n",
    "\n",
    "#try to establish connection\n",
    "try:\n",
    "    conn = sqlite3.connect(path)\n",
    "except Exception:\n",
    "    raise ConnectionError\n",
    "\n",
    "#create cursor for excecution on db\n",
    "cur = conn.cursor()\n",
    "\n",
    "#queries from queries.sql in python string format\n",
    "queries = [\n",
    "    \"\"\"SELECT *\n",
    "    FROM employee\n",
    "    LEFT OUTER JOIN branch\n",
    "    ON employee.branch_id = branch.branch_id;\"\"\",\n",
    "\n",
    "    \"\"\"SELECT branch_id, AVG(salary)\n",
    "    FROM employee\n",
    "    GROUP BY branch_id;\"\"\",\n",
    "\n",
    "    \"\"\"SELECT branch_id, avg_salary\n",
    "    FROM (\n",
    "            SELECT branch_id, AVG(salary) AS avg_salary\n",
    "            FROM employee\n",
    "            GROUP BY branch_id\n",
    "        )\n",
    "    WHERE avg_salary > 35000;\"\"\"\n",
    "]\n",
    "\n",
    "#loop over queries and fetch results\n",
    "for query in queries:\n",
    "    try:\n",
    "        #result\n",
    "        res = cur.execute(query)   #excecute query\n",
    "        res = res.fetchall()       #retrieve all results\n",
    "        results = [i for i in res] #put it into python list\n",
    "        print(results)\n",
    "    except Exception:\n",
    "        print(\"error\")\n",
    "        continue\n",
    "\n",
    "\n",
    "#close connection\n",
    "conn.close()"
   ]
  },
  {
   "cell_type": "markdown",
   "metadata": {},
   "source": [
    "### Task 3(b)"
   ]
  },
  {
   "cell_type": "code",
   "execution_count": 6,
   "metadata": {},
   "outputs": [
    {
     "name": "stdout",
     "output_type": "stream",
     "text": [
      "   customer_id first_name second_name         street  house_number      city  \\\n",
      "0            1    Michael       Scott  Slough Avenue          1725  Scranton   \n",
      "1            2        Jim     Halpert   Beech Street           236  Scranton   \n",
      "2            3        Pam      Beesly    Main Street           411  Scranton   \n",
      "3            4     Dwight     Schrute  Walnut Street           700  Scranton   \n",
      "4            5     Angela      Martin   Maple Street           300  Scranton   \n",
      "\n",
      "  country  phone_number date_of_birth  \n",
      "0     USA  717-555-0101    1979-03-15  \n",
      "1     USA  717-555-0102    1981-10-14  \n",
      "2     USA  717-555-0103    1985-06-27  \n",
      "3     USA  717-555-0104    1980-02-19  \n",
      "4     USA  717-555-0105    1978-01-25  \n"
     ]
    }
   ],
   "source": [
    "import sqlite3\n",
    "import pandas as pd\n",
    "\n",
    "# Path to the database\n",
    "path = r\"bank.db\"  # Adjust the path if necessary\n",
    "\n",
    "# Try to establish a connection to the database\n",
    "try:\n",
    "    conn = sqlite3.connect(path)\n",
    "except Exception:\n",
    "    raise ConnectionError(\"Failed to connect to the database.\")\n",
    "\n",
    "# SQL query to select all data from the customer table\n",
    "query = \"\"\"SELECT * FROM customer\"\"\"\n",
    "\n",
    "# Execute the query and load the results into a Pandas DataFrame\n",
    "try:\n",
    "    df_customers = pd.read_sql_query(query, conn)  # Read the table into a DataFrame\n",
    "    print(df_customers.head())  # Display the first few rows as a preview\n",
    "except Exception as e:\n",
    "    print(f\"Error while executing the query: {e}\")\n",
    "\n",
    "# Close the connection\n",
    "conn.close()\n"
   ]
  },
  {
   "cell_type": "markdown",
   "metadata": {},
   "source": [
    "### Task 3(c)"
   ]
  },
  {
   "cell_type": "code",
   "execution_count": 7,
   "metadata": {},
   "outputs": [
    {
     "name": "stdout",
     "output_type": "stream",
     "text": [
      "Customer 1 and Customer 4 have a similarity score of 0.73\n",
      "Customer 1 and Customer 5 have a similarity score of 0.73\n",
      "Customer 2 and Customer 3 have a similarity score of 0.76\n",
      "Customer 2 and Customer 4 have a similarity score of 0.72\n",
      "Customer 2 and Customer 5 have a similarity score of 0.73\n",
      "Customer 2 and Customer 6 have a similarity score of 0.70\n",
      "Customer 3 and Customer 5 have a similarity score of 0.78\n",
      "Customer 4 and Customer 5 have a similarity score of 0.72\n",
      "Customer 6 and Customer 7 have a similarity score of 0.72\n",
      "Customer 6 and Customer 8 have a similarity score of 0.75\n",
      "Customer 11 and Customer 12 have a similarity score of 0.76\n",
      "Customer 11 and Customer 13 have a similarity score of 0.75\n",
      "Customer 11 and Customer 14 have a similarity score of 0.76\n",
      "Customer 11 and Customer 15 have a similarity score of 0.72\n",
      "Customer 12 and Customer 13 have a similarity score of 0.76\n",
      "Customer 12 and Customer 14 have a similarity score of 0.72\n",
      "Customer 12 and Customer 15 have a similarity score of 0.72\n",
      "Customer 13 and Customer 14 have a similarity score of 0.75\n",
      "Customer 13 and Customer 15 have a similarity score of 0.72\n",
      "Customer 14 and Customer 15 have a similarity score of 0.73\n"
     ]
    }
   ],
   "source": [
    "# Jaro similarity function\n",
    "def jaro(s, t):\n",
    "    s_len = len(s)\n",
    "    t_len = len(t)\n",
    "    \n",
    "    if s_len == 0 and t_len == 0:\n",
    "        return 1\n",
    "    \n",
    "    match_distance = (max(s_len, t_len) // 2) - 1\n",
    "    \n",
    "    s_matches = [False] * s_len\n",
    "    t_matches = [False] * t_len\n",
    "    \n",
    "    matches = 0\n",
    "    transpositions = 0\n",
    "    \n",
    "    for i in range(s_len):\n",
    "        start = max(0, i - match_distance)\n",
    "        end = min(i + match_distance + 1, t_len)\n",
    "        \n",
    "        for j in range(start, end):\n",
    "            if t_matches[j]:\n",
    "                continue\n",
    "            if s[i] != t[j]:\n",
    "                continue\n",
    "            s_matches[i] = True\n",
    "            t_matches[j] = True\n",
    "            matches += 1\n",
    "            break\n",
    "    \n",
    "    if matches == 0:\n",
    "        return 0\n",
    "    \n",
    "    k = 0\n",
    "    for i in range(s_len):\n",
    "        if not s_matches[i]:\n",
    "            continue\n",
    "        while not t_matches[k]:\n",
    "            k += 1\n",
    "        if s[i] != t[k]:\n",
    "            transpositions += 1\n",
    "        k += 1\n",
    "    \n",
    "    return ((matches / s_len) +\n",
    "            (matches / t_len) +\n",
    "            ((matches - transpositions / 2) / matches)) / 3\n",
    "\n",
    "# Function to compare customers and report those with similarity > 0.7\n",
    "def compare_customers(df):\n",
    "    num_customers = len(df)\n",
    "    for i in range(num_customers):\n",
    "        for j in range(i + 1, num_customers):\n",
    "            # Combine the columns (first_name, second_name, city, phone_number, and date_of_birth) into strings\n",
    "            customer1 = ' '.join(df.iloc[i].astype(str).values)\n",
    "            customer2 = ' '.join(df.iloc[j].astype(str).values)\n",
    "            \n",
    "            # Calculate similarity between the two customers using Jaro similarity\n",
    "            similarity = jaro(customer1, customer2)\n",
    "            \n",
    "            # Report customers with similarity > 0.7\n",
    "            if similarity > 0.7:\n",
    "                print(f\"Customer {i+1} and Customer {j+1} have a similarity score of {similarity:.2f}\")\n",
    "\n",
    "# Apply the comparison function to df_customers\n",
    "compare_customers(df_customers)\n"
   ]
  }
 ],
 "metadata": {
  "kernelspec": {
   "display_name": "Python 3",
   "language": "python",
   "name": "python3"
  },
  "language_info": {
   "codemirror_mode": {
    "name": "ipython",
    "version": 3
   },
   "file_extension": ".py",
   "mimetype": "text/x-python",
   "name": "python",
   "nbconvert_exporter": "python",
   "pygments_lexer": "ipython3",
   "version": "3.12.6"
  }
 },
 "nbformat": 4,
 "nbformat_minor": 2
}
